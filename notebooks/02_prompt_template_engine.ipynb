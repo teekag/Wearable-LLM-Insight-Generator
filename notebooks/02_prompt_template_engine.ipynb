{
 "cells": [
  {
   "cell_type": "markdown",
   "metadata": {},
   "source": [
    "# Prompt Template Engine for Wearable Insights\n",
    "\n",
    "This notebook demonstrates how to build and test prompt templates for generating personalized insights from wearable data. We'll use the processed data from the previous notebook to create various prompt templates and preview the outputs."
   ]
  },
  {
   "cell_type": "code",
   "execution_count": null,
   "metadata": {},
   "outputs": [],
   "source": [
    "# Import necessary libraries\n",
    "import sys\n",
    "import os\n",
    "import json\n",
    "import pandas as pd\n",
    "import numpy as np\n",
    "from datetime import datetime, timedelta\n",
    "import matplotlib.pyplot as plt\n",
    "\n",
    "# Add the src directory to the path so we can import our modules\n",
    "sys.path.append('../')\n",
    "from src.insight_prompt_builder import InsightPromptBuilder\n",
    "from src.llm_engine import LLMEngine\n",
    "\n",
    "# Set up plotting\n",
    "%matplotlib inline"
   ]
  },
  {
   "cell_type": "markdown",
   "metadata": {},
   "source": [
    "## 1. Load Processed Data\n",
    "\n",
    "First, let's load the processed data from the previous notebook."
   ]
  },
  {
   "cell_type": "code",
   "execution_count": null,
   "metadata": {},
   "outputs": [],
   "source": [
    "# Load combined features\n",
    "processed_dir = '../data/processed'\n",
    "with open(os.path.join(processed_dir, 'combined_features.json'), 'r') as f:\n",
    "    combined_features = json.load(f)\n",
    "\n",
    "# Load user goals\n",
    "with open(os.path.join(processed_dir, 'user_goals.json'), 'r') as f:\n",
    "    user_goals = json.load(f)\n",
    "\n",
    "print(f\"Loaded data for {len(combined_features)} days\")\n",
    "print(f\"User: {user_goals['name']}\")"
   ]
  },
  {
   "cell_type": "code",
   "execution_count": null,
   "metadata": {},
   "outputs": [],
   "source": [
    "# Get the most recent day's data\n",
    "dates = list(combined_features.keys())\n",
    "dates.sort()\n",
    "latest_date = dates[-1]\n",
    "latest_features = combined_features[latest_date]\n",
    "\n",
    "print(f\"Latest data date: {latest_date}\")\n",
    "print(f\"Number of features: {len(latest_features)}\")\n",
    "\n",
    "# Display a few key features\n",
    "key_features = [\n",
    "    'hrv_rmssd_mean', 'activity_total_steps', 'sleep_total_sleep_hours', 'recovery_score'\n",
    "]\n",
    "print(\"\\nKey metrics:\")\n",
    "for feature in key_features:\n",
    "    if feature in latest_features:\n",
    "        value = latest_features[feature]\n",
    "        print(f\"- {feature}: {value}\")"
   ]
  },
  {
   "cell_type": "markdown",
   "metadata": {},
   "source": [
    "## 2. Initialize Prompt Builder\n",
    "\n",
    "Now, let's initialize the prompt builder and explore different prompt templates."
   ]
  },
  {
   "cell_type": "code",
   "execution_count": null,
   "metadata": {},
   "outputs": [],
   "source": [
    "# Initialize prompt builder\n",
    "prompt_builder = InsightPromptBuilder()\n",
    "\n",
    "# List available tones\n",
    "available_tones = list(prompt_builder.templates.keys())\n",
    "print(f\"Available tones: {available_tones}\")"
   ]
  },
  {
   "cell_type": "markdown",
   "metadata": {},
   "source": [
    "## 3. Build Basic Prompts with Different Tones\n",
    "\n",
    "Let's create prompts with different tones to see how they affect the output."
   ]
  },
  {
   "cell_type": "code",
   "execution_count": null,
   "metadata": {},
   "outputs": [],
   "source": [
    "# Extract the user's primary goal for fitness\n",
    "fitness_goal = next((goal['goal'] for goal in user_goals['primary_goals'] if goal['area'] == 'fitness'), \n",
    "                    \"improving overall fitness\")\n",
    "\n",
    "print(f\"User's fitness goal: {fitness_goal}\")"
   ]
  },
  {
   "cell_type": "code",
   "execution_count": null,
   "metadata": {},
   "outputs": [],
   "source": [
    "# Build a coach-tone prompt\n",
    "coach_prompt = prompt_builder.build_prompt(\n",
    "    latest_features,\n",
    "    tone=\"coach\",\n",
    "    user_goal=fitness_goal,\n",
    "    time_range=\"yesterday\"\n",
    ")\n",
    "\n",
    "print(\"=== COACH PROMPT ===\\n\")\n",
    "print(\"System prompt:\")\n",
    "print(coach_prompt[\"system\"])\n",
    "print(\"\\nUser prompt:\")\n",
    "print(coach_prompt[\"user\"])"
   ]
  },
  {
   "cell_type": "code",
   "execution_count": null,
   "metadata": {},
   "outputs": [],
   "source": [
    "# Build a medical-tone prompt\n",
    "medical_prompt = prompt_builder.build_prompt(\n",
    "    latest_features,\n",
    "    tone=\"medical\",\n",
    "    user_goal=fitness_goal,\n",
    "    time_range=\"yesterday\"\n",
    ")\n",
    "\n",
    "print(\"=== MEDICAL PROMPT ===\\n\")\n",
    "print(\"System prompt:\")\n",
    "print(medical_prompt[\"system\"])\n",
    "print(\"\\nUser prompt:\")\n",
    "print(medical_prompt[\"user\"])"
   ]
  },
  {
   "cell_type": "code",
   "execution_count": null,
   "metadata": {},
   "outputs": [],
   "source": [
    "# Build a motivational-tone prompt\n",
    "motivational_prompt = prompt_builder.build_prompt(\n",
    "    latest_features,\n",
    "    tone=\"motivational\",\n",
    "    user_goal=fitness_goal,\n",
    "    time_range=\"yesterday\"\n",
    ")\n",
    "\n",
    "print(\"=== MOTIVATIONAL PROMPT ===\\n\")\n",
    "print(\"System prompt:\")\n",
    "print(motivational_prompt[\"system\"])\n",
    "print(\"\\nUser prompt:\")\n",
    "print(motivational_prompt[\"user\"])"
   ]
  },
  {
   "cell_type": "markdown",
   "metadata": {},
   "source": [
    "## 4. Build Focused Prompts\n",
    "\n",
    "Now, let's create prompts focused on specific areas like sleep, recovery, or activity."
   ]
  },
  {
   "cell_type": "code",
   "execution_count": null,
   "metadata": {},
   "outputs": [],
   "source": [
    "# Extract the user's sleep goal\n",
    "sleep_goal = next((goal['goal'] for goal in user_goals['primary_goals'] if goal['area'] == 'sleep'), \n",
    "                  \"improving sleep quality\")\n",
    "\n",
    "# Build a sleep-focused prompt\n",
    "sleep_prompt = prompt_builder.build_focused_prompt(\n",
    "    latest_features,\n",
    "    focus_area=\"sleep\",\n",
    "    user_goal=sleep_goal\n",
    ")\n",
    "\n",
    "print(\"=== SLEEP-FOCUSED PROMPT ===\\n\")\n",
    "print(\"System prompt:\")\n",
    "print(sleep_prompt[\"system\"])\n",
    "print(\"\\nUser prompt:\")\n",
    "print(sleep_prompt[\"user\"])"
   ]
  },
  {
   "cell_type": "code",
   "execution_count": null,
   "metadata": {},
   "outputs": [],
   "source": [
    "# Build a recovery-focused prompt\n",
    "recovery_prompt = prompt_builder.build_focused_prompt(\n",
    "    latest_features,\n",
    "    focus_area=\"recovery\",\n",
    "    user_goal=\"optimizing recovery between workouts\"\n",
    ")\n",
    "\n",
    "print(\"=== RECOVERY-FOCUSED PROMPT ===\\n\")\n",
    "print(\"System prompt:\")\n",
    "print(recovery_prompt[\"system\"])\n",
    "print(\"\\nUser prompt:\")\n",
    "print(recovery_prompt[\"user\"])"
   ]
  },
  {
   "cell_type": "markdown",
   "metadata": {},
   "source": [
    "## 5. Build Comparative Prompts\n",
    "\n",
    "Let's create prompts that compare current data with previous periods."
   ]
  },
  {
   "cell_type": "code",
   "execution_count": null,
   "metadata": {},
   "outputs": [],
   "source": [
    "# Get the previous day's data\n",
    "if len(dates) > 1:\n",
    "    previous_date = dates[-2]\n",
    "    previous_features = combined_features[previous_date]\n",
    "    \n",
    "    # Build a comparative prompt\n",
    "    comparative_prompt = prompt_builder.build_comparative_prompt(\n",
    "        latest_features,\n",
    "        previous_features,\n",
    "        tone=\"coach\",\n",
    "        user_goal=fitness_goal\n",
    "    )\n",
    "    \n",
    "    print(\"=== COMPARATIVE PROMPT ===\\n\")\n",
    "    print(\"System prompt:\")\n",
    "    print(comparative_prompt[\"system\"])\n",
    "    print(\"\\nUser prompt:\")\n",
    "    print(comparative_prompt[\"user\"])\n",
    "else:\n",
    "    print(\"Not enough data for comparative analysis.\")"
   ]
  },
  {
   "cell_type": "markdown",
   "metadata": {},
   "source": [
    "## 6. Add Few-Shot Examples\n",
    "\n",
    "Let's enhance our prompts with few-shot examples to guide the LLM's responses."
   ]
  },
  {
   "cell_type": "code",
   "execution_count": null,
   "metadata": {},
   "outputs": [],
   "source": [
    "# Define few-shot examples\n",
    "few_shot_examples = [\n",
    "    {\n",
    "        \"input\": \"HRV: RMSSD 65.3, Sleep: 7.2 hours, Steps: 8500, Recovery Score: 75.8\",\n",
    "        \"output\": \"Your HRV is in a good range, indicating balanced stress and recovery. With 7.2 hours of sleep, you're close to the recommended 7-8 hours. Your recovery score of 75.8 suggests you're ready for moderate intensity training today. Consider a zone 2 cardio session or strength training with adequate rest between sets.\"\n",
    "    },\n",
    "    {\n",
    "        \"input\": \"HRV: RMSSD 45.2, Sleep: 5.8 hours, Steps: 12000, Recovery Score: 58.3\",\n",
    "        \"output\": \"Your HRV is lower than your baseline, indicating increased stress or incomplete recovery. Combined with less than optimal sleep (5.8 hours), your body is showing signs of fatigue. Despite high activity yesterday (12000 steps), your recovery score of 58.3 suggests prioritizing rest today. Consider a light mobility session or yoga instead of intense training.\"\n",
    "    }\n",
    "]\n",
    "\n",
    "# Add few-shot examples to a prompt\n",
    "coach_prompt_with_examples = prompt_builder.add_few_shot_examples(coach_prompt, few_shot_examples)\n",
    "\n",
    "print(\"=== COACH PROMPT WITH FEW-SHOT EXAMPLES ===\\n\")\n",
    "print(\"System prompt:\")\n",
    "print(coach_prompt_with_examples[\"system\"])\n",
    "print(\"\\nUser prompt:\")\n",
    "print(coach_prompt_with_examples[\"user\"])"
   ]
  },
  {
   "cell_type": "markdown",
   "metadata": {},
   "source": [
    "## 7. Create a Custom Prompt Template\n",
    "\n",
    "Let's create and save a custom prompt template for future use."
   ]
  },
  {
   "cell_type": "code",
   "execution_count": null,
   "metadata": {},
   "outputs": [],
   "source": [
    "# Define a custom template\n",
    "custom_system_prompt = \"\"\"You are an elite endurance coach analyzing biometric data from wearable devices. \n",
    "Your expertise is in optimizing training for endurance athletes based on physiological markers.\n",
    "Focus on providing specific, actionable training recommendations based on HRV, sleep, and recovery metrics.\n",
    "Include both the 'what' and the 'why' in your advice, explaining the physiological reasoning.\"\"\"\n",
    "\n",
    "custom_user_prompt = \"\"\"Here's my recent biometric data as an endurance athlete:\n",
    "{data_summary}\n",
    "\n",
    "My current goal is {user_goal}. Based on these metrics, what specific workout should I do today? \n",
    "Please recommend intensity, duration, and type of session, along with the physiological reasoning.\"\"\"\n",
    "\n",
    "# Save the custom template\n",
    "templates_dir = '../outputs'\n",
    "os.makedirs(templates_dir, exist_ok=True)\n",
    "templates_path = os.path.join(templates_dir, 'custom_templates.json')\n",
    "\n",
    "prompt_builder.save_prompt_template(\n",
    "    \"endurance_coach\",\n",
    "    custom_system_prompt,\n",
    "    custom_user_prompt,\n",
    "    templates_path\n",
    ")\n",
    "\n",
    "print(f\"Saved custom template to {templates_path}\")"
   ]
  },
  {
   "cell_type": "code",
   "execution_count": null,
   "metadata": {},
   "outputs": [],
   "source": [
    "# Load the custom template\n",
    "with open(templates_path, 'r') as f:\n",
    "    custom_templates = json.load(f)\n",
    "\n",
    "# Create a new prompt builder with the custom templates\n",
    "custom_prompt_builder = InsightPromptBuilder(templates_path=templates_path)\n",
    "\n",
    "# Build a prompt using the custom template\n",
    "endurance_prompt = custom_prompt_builder.build_prompt(\n",
    "    latest_features,\n",
    "    tone=\"endurance_coach\",\n",
    "    user_goal=\"preparing for a marathon in 8 weeks\"\n",
    ")\n",
    "\n",
    "print(\"=== CUSTOM ENDURANCE COACH PROMPT ===\\n\")\n",
    "print(\"System prompt:\")\n",
    "print(endurance_prompt[\"system\"])\n",
    "print(\"\\nUser prompt:\")\n",
    "print(endurance_prompt[\"user\"])"
   ]
  },
  {
   "cell_type": "markdown",
   "metadata": {},
   "source": [
    "## 8. Generate Sample Insights (Optional)\n",
    "\n",
    "If you have an API key configured, you can generate sample insights using the LLM engine."
   ]
  },
  {
   "cell_type": "code",
   "execution_count": null,
   "metadata": {},
   "outputs": [],
   "source": [
    "# Check if API key is set\n",
    "api_key = os.environ.get(\"OPENAI_API_KEY\")\n",
    "\n",
    "if api_key:\n",
    "    # Initialize LLM engine\n",
    "    llm_engine = LLMEngine()\n",
    "    \n",
    "    # Generate insight using coach prompt\n",
    "    insight, metadata = llm_engine.generate_insight(coach_prompt)\n",
    "    \n",
    "    print(\"=== GENERATED INSIGHT (COACH TONE) ===\\n\")\n",
    "    print(insight)\n",
    "    print(\"\\nMetadata:\")\n",
    "    print(f\"- Model: {metadata.get('model')}\")\n",
    "    print(f\"- Tokens: {metadata.get('total_tokens')}\")\n",
    "    print(f\"- Latency: {metadata.get('latency_seconds'):.2f} seconds\")\n",
    "    \n",
    "    # Save the response\n",
    "    output_path = llm_engine.save_response(\n",
    "        coach_prompt, \n",
    "        insight, \n",
    "        metadata, \n",
    "        '../outputs',\n",
    "        'sample_coach_insight.json'\n",
    "    )\n",
    "    print(f\"\\nSaved response to {output_path}\")\n",
    "    \n",
    "else:\n",
    "    print(\"OpenAI API key not set. To generate insights, set the OPENAI_API_KEY environment variable.\")\n",
    "    print(\"Example: export OPENAI_API_KEY='your-api-key'\")"
   ]
  },
  {
   "cell_type": "markdown",
   "metadata": {},
   "source": [
    "## 9. Compare Different Prompt Strategies\n",
    "\n",
    "Let's compare the different prompt strategies we've explored."
   ]
  },
  {
   "cell_type": "code",
   "execution_count": null,
   "metadata": {},
   "outputs": [],
   "source": [
    "# Create a table comparing the different prompt strategies\n",
    "prompt_strategies = [\n",
    "    {\"Strategy\": \"Basic Coach\", \"Description\": \"General coaching tone with all metrics\", \"Best For\": \"Overall fitness guidance\"},\n",
    "    {\"Strategy\": \"Medical Tone\", \"Description\": \"Clinical analysis of physiological data\", \"Best For\": \"Health-focused insights\"},\n",
    "    {\"Strategy\": \"Motivational\", \"Description\": \"Encouraging tone emphasizing progress\", \"Best For\": \"Motivation and adherence\"},\n",
    "    {\"Strategy\": \"Sleep Focus\", \"Description\": \"Detailed analysis of sleep metrics\", \"Best For\": \"Sleep optimization\"},\n",
    "    {\"Strategy\": \"Recovery Focus\", \"Description\": \"Analysis of recovery readiness\", \"Best For\": \"Training periodization\"},\n",
    "    {\"Strategy\": \"Comparative\", \"Description\": \"Comparison with previous period\", \"Best For\": \"Trend analysis and progress tracking\"},\n",
    "    {\"Strategy\": \"Few-Shot Examples\", \"Description\": \"Guided responses with examples\", \"Best For\": \"Consistent, targeted insights\"},\n",
    "    {\"Strategy\": \"Custom Templates\", \"Description\": \"Domain-specific expertise\", \"Best For\": \"Specialized use cases (e.g., endurance training)\"}\n",
    "]\n",
    "\n",
    "strategies_df = pd.DataFrame(prompt_strategies)\n",
    "strategies_df"
   ]
  },
  {
   "cell_type": "markdown",
   "metadata": {},
   "source": [
    "## Summary\n",
    "\n",
    "In this notebook, we've explored various prompt engineering strategies for generating insights from wearable data:\n",
    "\n",
    "1. **Different Tones**: We created prompts with coaching, medical, and motivational tones to address different user needs.\n",
    "\n",
    "2. **Focused Prompts**: We built prompts that focus on specific areas like sleep or recovery, highlighting the most relevant metrics.\n",
    "\n",
    "3. **Comparative Analysis**: We created prompts that compare current data with previous periods to identify trends and changes.\n",
    "\n",
    "4. **Few-Shot Examples**: We enhanced prompts with examples to guide the LLM toward specific response formats.\n",
    "\n",
    "5. **Custom Templates**: We created and saved custom templates for specialized use cases.\n",
    "\n",
    "These prompt strategies can be combined and customized to generate highly personalized insights based on user goals, preferences, and the specific metrics available in the wearable data.\n",
    "\n",
    "In the next notebook, we'll integrate these prompt strategies into a complete LLM pipeline for generating insights."
   ]
  }
 ],
 "metadata": {
  "kernelspec": {
   "display_name": "Python 3",
   "language": "python",
   "name": "python3"
  },
  "language_info": {
   "codemirror_mode": {
    "name": "ipython",
    "version": 3
   },
   "file_extension": ".py",
   "mimetype": "text/x-python",
   "name": "python",
   "nbconvert_exporter": "python",
   "pygments_lexer": "ipython3",
   "version": "3.8.10"
  }
 },
 "nbformat": 4,
 "nbformat_minor": 4
}
